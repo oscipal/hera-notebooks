{
 "cells": [
  {
   "cell_type": "markdown",
   "id": "59af0b96",
   "metadata": {},
   "source": [
    "### **Storing with Artifacts**\n",
    "\n",
    "This notebook will show how to use Artifact storage. Artifact storage on the eodc ArgoWorkflows relies on S3 storage, the credentials for this needs to be set up for your namespace. Artifacts are not a permanent storage, but can be passed between steps."
   ]
  },
  {
   "cell_type": "markdown",
   "id": "1fb8d23b",
   "metadata": {},
   "source": [
    "**First some imports and global settings**"
   ]
  },
  {
   "cell_type": "code",
   "execution_count": null,
   "id": "e2f633e7",
   "metadata": {},
   "outputs": [],
   "source": [
    "from hera.workflows import script, Artifact, DAG, NoneArchiveStrategy, Workflow\n",
    "from hera.shared import global_config\n",
    "\n",
    "global_config.host = \"https://dev.services.eodc.eu/workflows/\"\n",
    "global_config.namespace = \"<YOUR NAMESPACE>\"\n",
    "global_config.token = \"<YOUR TOKEN>\"\n",
    "global_config.image = \"ghcr.io/eodcgmbh/cluster_image:2025.2.0\""
   ]
  },
  {
   "cell_type": "markdown",
   "id": "b6f59f98",
   "metadata": {},
   "source": [
    "**Writing the scripts**\n",
    "\n",
    "Contrary to empty directories, no volume has to be set up, however the path to the artifact will be under `/tmp`. To pass artifacts between steps, we need to pass the `output` parameter  in the script decorator. By default, Artifacts will be compressed to tgz format, setting `archive` to `NoneArchiveStrategy` will leave the artifact in it's original format.\n",
    "\n",
    "In the scripts we will do the same as win the empty directory notebook, but we will pass the downloaded file between steps."
   ]
  },
  {
   "cell_type": "code",
   "execution_count": null,
   "id": "802bf36e",
   "metadata": {},
   "outputs": [],
   "source": [
    "@script(outputs=Artifact(name=\"output-artifact\", path=\"/tmp/INCA.nc\", archive=NoneArchiveStrategy()))\n",
    "def create_artifact():\n",
    "    from urllib.request import urlretrieve\n",
    "    import datetime\n",
    "    import os\n",
    "\n",
    "    artifact_path = \"/tmp\"\n",
    "\n",
    "    url = f\"https://public.hub.geosphere.at/datahub/resources/inca-v1-1h-1km/filelisting/RR/INCAL_HOURLY_RR_202506.nc\"\n",
    "    urlretrieve(url, os.path.join(artifact_path, \"INCA.nc\"))"
   ]
  },
  {
   "cell_type": "code",
   "execution_count": null,
   "id": "59b94e62",
   "metadata": {},
   "outputs": [],
   "source": [
    "@script(inputs=Artifact(name=\"input-artifact\", path=\"/tmp/INCA.nc\"))\n",
    "def consume_artifact():\n",
    "    import xarray as xr\n",
    "\n",
    "    artifact_path=\"/tmp/INCA.nc\"\n",
    "\n",
    "    ds = xr.open_dataset(os.path.join(artifact_path, \"INCA.nc\")).isel(time=1, x=1, y=1)[\"RR\"].load()\n",
    "    print(ds.values)"
   ]
  },
  {
   "cell_type": "markdown",
   "id": "d53c7e1d",
   "metadata": {},
   "source": [
    "**Creating the Workflow**\n",
    "\n",
    "When creating the workflow we need to pass the artifact created in the create step to the consume step with `get_artifact`, here the name of the artifact needs to be specified. It is also possible to pass other parameter required in the function as a dictionary in the list of arguments. "
   ]
  },
  {
   "cell_type": "code",
   "execution_count": null,
   "id": "dfcb3269",
   "metadata": {},
   "outputs": [],
   "source": [
    "with Workflow(\n",
    "    generate_name=\"artifact-storage-\",\n",
    "    entrypoint=\"workflow\"\n",
    ") as w:\n",
    "    with DAG(name=\"workflow\"):\n",
    "        create = create_artifact()\n",
    "        consume = consume_artifact(arguments=[create.get_artifact(\"output-artifact\").with_name(\"input-artifact\")])\n",
    "\n",
    "        create >> consume"
   ]
  },
  {
   "cell_type": "markdown",
   "id": "810f2946",
   "metadata": {},
   "source": [
    "**Submitting the Workflow**"
   ]
  },
  {
   "cell_type": "code",
   "execution_count": null,
   "id": "4e4731fa",
   "metadata": {},
   "outputs": [],
   "source": [
    "w.create()"
   ]
  }
 ],
 "metadata": {
  "kernelspec": {
   "display_name": "zarr",
   "language": "python",
   "name": "python3"
  },
  "language_info": {
   "codemirror_mode": {
    "name": "ipython",
    "version": 3
   },
   "file_extension": ".py",
   "mimetype": "text/x-python",
   "name": "python",
   "nbconvert_exporter": "python",
   "pygments_lexer": "ipython3",
   "version": "3.11.4"
  }
 },
 "nbformat": 4,
 "nbformat_minor": 5
}
