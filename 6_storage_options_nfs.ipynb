{
 "cells": [
  {
   "cell_type": "markdown",
   "id": "603f1171",
   "metadata": {},
   "source": [
    "### **Storing on the NFS**\n",
    "\n",
    "This notebook will show how to connect to an exisiting file system and write/read to that FS. To connect, a persistent volume claim has to be set up to you namespace. The files written to the NFS are permanent and passable between workflows."
   ]
  },
  {
   "cell_type": "markdown",
   "id": "51e0b150",
   "metadata": {},
   "source": [
    "**First some imports and global settings**"
   ]
  },
  {
   "cell_type": "code",
   "execution_count": null,
   "id": "18582f8d",
   "metadata": {},
   "outputs": [],
   "source": [
    "from hera.workflows import models, script, DAG, Workflow\n",
    "from hera.shared import global_config\n",
    "\n",
    "global_config.host = \"https://dev.services.eodc.eu/workflows/\"\n",
    "global_config.namespace = \"<YOUR NAMESPACE>\"\n",
    "global_config.token = \"<YOUR TOKEN>\"\n",
    "global_config.image = \"ghcr.io/eodcgmbh/cluster_image:2025.2.0\""
   ]
  },
  {
   "cell_type": "markdown",
   "id": "d5dac84f",
   "metadata": {},
   "source": [
    "**Setting up Volume**\n",
    "\n",
    "As with the empty directories, the NFS has to be mounted as a volume. There has to be an existing pvc for our namespace to connect to the NFS. For our case we will connect to the EODC NFS. The security context has to be set according to the UserID and GroupID of the folder you want to write to."
   ]
  },
  {
   "cell_type": "code",
   "execution_count": null,
   "id": "c3f2b134",
   "metadata": {},
   "outputs": [],
   "source": [
    "nfs_volume = models.Volume(\n",
    "    name=\"eodc-mount\",\n",
    "    persistent_volume_claim={\"claimName\": \"eodc-nfs-claim\"},\n",
    "    )\n",
    "\n",
    "security_context = {\"runAsUser\": <YOUR UID>,\n",
    "                    \"runAsGroup\": <YOUR GID>}"
   ]
  },
  {
   "cell_type": "markdown",
   "id": "d2838fb1",
   "metadata": {},
   "source": [
    "**Writing scripts**\n",
    "\n",
    "Again, as with the empty directories, the volume has to be mounted in the script decorator. \n",
    "\n",
    "For our example we will write a simple csv to the eodc volume and read it in the next step."
   ]
  },
  {
   "cell_type": "code",
   "execution_count": null,
   "id": "c4efb2a2",
   "metadata": {},
   "outputs": [],
   "source": [
    "@script(volume_mounts=[models.VolumeMount(name=\"eodc-mount\", mount_path=\"/eodc\")])\n",
    "def write_to_volume():\n",
    "    import pandas as pd\n",
    "\n",
    "    data = {\n",
    "    \"A\": [1, 2, 3, 4, 5],\n",
    "    \"B\": [10, 20, 30, 40, 50],\n",
    "    \"C\": [100, 200, 300, 400, 500]\n",
    "    }\n",
    "\n",
    "    df = pd.DataFrame(data)\n",
    "    df.to_csv(\"/eodc/private/tempearth/data.csv\")"
   ]
  },
  {
   "cell_type": "code",
   "execution_count": null,
   "id": "533e5d25",
   "metadata": {},
   "outputs": [],
   "source": [
    "@script(volume_mounts=[models.VolumeMount(name=\"eodc-mount\", mount_path=\"/eodc\")])\n",
    "def read_from_volume():\n",
    "    import pandas as pd\n",
    "\n",
    "    df = pd.read_csv(\"/eodc/private/tempearth/data.csv\")\n",
    "    print(df)"
   ]
  },
  {
   "cell_type": "markdown",
   "id": "8d4632a5",
   "metadata": {},
   "source": [
    "**Creating the Workflow**\n",
    "\n",
    "When creating the workflow, the volume and security context have to be passed in the respective parameters."
   ]
  },
  {
   "cell_type": "code",
   "execution_count": null,
   "id": "83277944",
   "metadata": {},
   "outputs": [],
   "source": [
    "with Workflow(\n",
    "    generate_name=\"filesystem-access-\",\n",
    "    volumes = [nfs_volume],\n",
    "    security_context=security_context,\n",
    "    entrypoint=\"workflow\"\n",
    ") as w:\n",
    "    with DAG(name=\"workflow\"):\n",
    "        create = write_to_volume()\n",
    "        read = read_from_volume()\n",
    "\n",
    "        create >> read"
   ]
  },
  {
   "cell_type": "markdown",
   "id": "d4c2ecb1",
   "metadata": {},
   "source": [
    "**Submitting the Workflow**"
   ]
  },
  {
   "cell_type": "code",
   "execution_count": null,
   "id": "85dbfeda",
   "metadata": {},
   "outputs": [],
   "source": [
    "w.create()"
   ]
  }
 ],
 "metadata": {
  "kernelspec": {
   "display_name": "zarr",
   "language": "python",
   "name": "python3"
  },
  "language_info": {
   "codemirror_mode": {
    "name": "ipython",
    "version": 3
   },
   "file_extension": ".py",
   "mimetype": "text/x-python",
   "name": "python",
   "nbconvert_exporter": "python",
   "pygments_lexer": "ipython3",
   "version": "3.11.4"
  }
 },
 "nbformat": 4,
 "nbformat_minor": 5
}
