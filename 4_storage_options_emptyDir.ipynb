{
 "cells": [
  {
   "cell_type": "markdown",
   "id": "11d75546",
   "metadata": {},
   "source": [
    "### **Storing with empty directories**\n",
    "\n",
    "This notebook will show how to use an empty directory to store objects. Note that empty directories are not a permanent storage option, and can not pass objects between two steps. They only offer the possibility to save objects and use them in the same step."
   ]
  },
  {
   "cell_type": "markdown",
   "id": "b156cb4b",
   "metadata": {},
   "source": [
    "**First some imports and global settings**"
   ]
  },
  {
   "cell_type": "code",
   "execution_count": null,
   "id": "40cc8543",
   "metadata": {},
   "outputs": [],
   "source": [
    "from hera.workflows import EmptyDirVolume, models, script, Artifact, Parameter, DAG, Steps, Step, NoneArchiveStrategy, Workflow\n",
    "from hera.shared import global_config\n",
    "\n",
    "global_config.host = \"https://dev.services.eodc.eu/workflows/\"\n",
    "global_config.namespace = \"<YOUR NAMESPACE>\"\n",
    "global_config.token = \"<YOUR TOKEN>\"\n",
    "global_config.image = \"ghcr.io/eodcgmbh/cluster_image:2025.2.0\""
   ]
  },
  {
   "cell_type": "markdown",
   "id": "fb4c272c",
   "metadata": {},
   "source": [
    "**Setting up Volume**\n",
    "\n",
    "First an empty directory has to be set up as a `Volume`, this can be used in multiple steps. As already mentioned, we can not pass objects in this volume between steps.  "
   ]
  },
  {
   "cell_type": "code",
   "execution_count": null,
   "id": "30b3dca5",
   "metadata": {},
   "outputs": [],
   "source": [
    "empty_dir = models.Volume(name=\"emptydir\", empty_dir=models.EmptyDirVolumeSource())"
   ]
  },
  {
   "cell_type": "markdown",
   "id": "40967998",
   "metadata": {},
   "source": [
    "**Writing scripts**\n",
    "\n",
    "In the `@script` decorator we have to mount the empty directory Volume, we can mount multiple volumes as a list if needed. In this script we download a file from the geosphere datahub, save it in the empty directory and open and read it. "
   ]
  },
  {
   "cell_type": "code",
   "execution_count": null,
   "id": "e6d4a1da",
   "metadata": {},
   "outputs": [],
   "source": [
    "@script(volume_mounts=[models.VolumeMount(name=\"emptydir\", mount_path=\"/mnt/vol/\")])\n",
    "def download_and_use():\n",
    "    from urllib.request import urlretrieve\n",
    "    import datetime\n",
    "    import os\n",
    "    import xarray as xr\n",
    "\n",
    "    mount_path = \"/mnt/vol/\"\n",
    "\n",
    "    url = f\"https://public.hub.geosphere.at/datahub/resources/inca-v1-1h-1km/filelisting/RR/INCAL_HOURLY_RR_202506.nc\"\n",
    "    urlretrieve(url, os.path.join(mount_path, \"INCA.nc\"))\n",
    "\n",
    "    ds = xr.open_dataset(os.path.join(mount_path, \"INCA.nc\")).isel(time=1, x=1, y=1)[\"RR\"].load()\n",
    "    print(ds.values)"
   ]
  },
  {
   "cell_type": "markdown",
   "id": "05afbda2",
   "metadata": {},
   "source": [
    "**Creating the Workflow**\n",
    "\n",
    "In the workflow we have to define that we will use a volume, again multiple volumes can be given in a list."
   ]
  },
  {
   "cell_type": "code",
   "execution_count": null,
   "id": "04de5ae2",
   "metadata": {},
   "outputs": [],
   "source": [
    "with Workflow(\n",
    "    generate_name=\"empty-dir-\",\n",
    "    volumes = [empty_dir],\n",
    "    entrypoint=\"workflow\"\n",
    ") as w:\n",
    "    with DAG(name=\"workflow\"):\n",
    "        download_and_use()"
   ]
  },
  {
   "cell_type": "markdown",
   "id": "d227fecb",
   "metadata": {},
   "source": [
    "**Submitting the Workflow**"
   ]
  },
  {
   "cell_type": "code",
   "execution_count": null,
   "id": "9cfd28d6",
   "metadata": {},
   "outputs": [],
   "source": [
    "w.create()"
   ]
  }
 ],
 "metadata": {
  "kernelspec": {
   "display_name": "zarr",
   "language": "python",
   "name": "python3"
  },
  "language_info": {
   "codemirror_mode": {
    "name": "ipython",
    "version": 3
   },
   "file_extension": ".py",
   "mimetype": "text/x-python",
   "name": "python",
   "nbconvert_exporter": "python",
   "pygments_lexer": "ipython3",
   "version": "3.11.4"
  }
 },
 "nbformat": 4,
 "nbformat_minor": 5
}
