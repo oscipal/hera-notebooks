{
 "cells": [
  {
   "cell_type": "markdown",
   "id": "a0a8acfb",
   "metadata": {},
   "source": [
    "### **Creating Workflow Templates**\n",
    "\n",
    "This notebook will show how to create workflow templates and how to use them in a workflow."
   ]
  },
  {
   "cell_type": "markdown",
   "id": "5bf622f4",
   "metadata": {},
   "source": [
    "**First some imports and global settings**"
   ]
  },
  {
   "cell_type": "code",
   "execution_count": null,
   "id": "d5468aff",
   "metadata": {},
   "outputs": [],
   "source": [
    "from hera.workflows import Task, script, Parameter, DAG, Workflow, WorkflowTemplate\n",
    "from hera.workflows.models import TemplateRef\n",
    "from hera.shared import global_config\n",
    "\n",
    "global_config.host = \"https://dev.services.eodc.eu/workflows/\"\n",
    "global_config.namespace = \"<YOUR NAMESPACE>\"\n",
    "global_config.token = \"<YOUR TOKEN>\"\n",
    "global_config.image = \"ghcr.io/eodcgmbh/cluster_image:2025.2.0\""
   ]
  },
  {
   "cell_type": "markdown",
   "id": "0228e11d",
   "metadata": {},
   "source": [
    "**Writing scripts**"
   ]
  },
  {
   "cell_type": "code",
   "execution_count": null,
   "id": "1fdd3cd8",
   "metadata": {},
   "outputs": [],
   "source": [
    "@script()\n",
    "def write_message(message):\n",
    "    print(message)"
   ]
  },
  {
   "cell_type": "code",
   "execution_count": null,
   "id": "d1d10558",
   "metadata": {},
   "outputs": [],
   "source": [
    "@script()\n",
    "def echo_message(message):\n",
    "    print(f\"echo of {message}\")"
   ]
  },
  {
   "cell_type": "markdown",
   "id": "8ada5170",
   "metadata": {},
   "source": [
    "**Creating a Workflow Template**\n",
    "\n",
    "Equivalent to creating a workflow, a workflow template can be created. As we want it to be possible to give parameter values to the function when using the template, we have to define `inputs` in the DAG, here we will use Parameters called *args* which we call when using the corresponding function. We can also pass multiple inputs if needed."
   ]
  },
  {
   "cell_type": "code",
   "execution_count": null,
   "id": "8c6766ff",
   "metadata": {},
   "outputs": [],
   "source": [
    "with WorkflowTemplate(\n",
    "    name=\"write-message-template\",\n",
    "    entrypoint=\"workflow\"\n",
    ") as wt:\n",
    "    with DAG(name=\"workflow\", inputs=Parameter(name=\"args\")):\n",
    "        step1 = write_message(arguments={\"message\": \"{{inputs.parameters.args}}\"})\n",
    "        step2 = echo_message(arguments={\"message\": step1.result})\n",
    "\n",
    "        step1 >> step2"
   ]
  },
  {
   "cell_type": "markdown",
   "id": "2d3e0304",
   "metadata": {},
   "source": [
    "**Submitting the Workflow Template**"
   ]
  },
  {
   "cell_type": "code",
   "execution_count": null,
   "id": "b3a5f420",
   "metadata": {},
   "outputs": [],
   "source": [
    "wt.create()"
   ]
  },
  {
   "cell_type": "markdown",
   "id": "966fc2fe",
   "metadata": {},
   "source": [
    "**Creating a Workflow using the Template**\n",
    "\n",
    "To use the template we need to create a `Task` calling the relevant template with `template_ref` and passing the arguments to be used in the template with the correct name as defined in the template."
   ]
  },
  {
   "cell_type": "code",
   "execution_count": null,
   "id": "7d9b8ce3",
   "metadata": {},
   "outputs": [],
   "source": [
    "with Workflow(\n",
    "    generate_name=\"use-template-\",\n",
    "    entrypoint=\"workflow\"\n",
    ") as w:\n",
    "    with DAG(name=\"workflow\"):\n",
    "        step1 = write_message(arguments={\"message\": \"We will use a template in the next step!\"})\n",
    "        step2 = Task(name=\"using-template\", template_ref=TemplateRef(name=\"write-message-template\", template=\"workflow\"), arguments={\"args\": \"Hello hera!\"})\n",
    "\n",
    "        step1 >> step2"
   ]
  },
  {
   "cell_type": "markdown",
   "id": "9e3e7f61",
   "metadata": {},
   "source": [
    "**Submitting the Workflow**"
   ]
  },
  {
   "cell_type": "code",
   "execution_count": null,
   "id": "d3e3768c",
   "metadata": {},
   "outputs": [],
   "source": [
    "w.create()"
   ]
  }
 ],
 "metadata": {
  "kernelspec": {
   "display_name": "zarr",
   "language": "python",
   "name": "python3"
  },
  "language_info": {
   "codemirror_mode": {
    "name": "ipython",
    "version": 3
   },
   "file_extension": ".py",
   "mimetype": "text/x-python",
   "name": "python",
   "nbconvert_exporter": "python",
   "pygments_lexer": "ipython3",
   "version": "3.11.4"
  }
 },
 "nbformat": 4,
 "nbformat_minor": 5
}
