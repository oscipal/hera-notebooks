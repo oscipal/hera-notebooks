{
 "cells": [
  {
   "cell_type": "markdown",
   "id": "51e744a7",
   "metadata": {},
   "source": [
    "### **Intro Tutorial**"
   ]
  },
  {
   "cell_type": "markdown",
   "id": "5f6ddee9",
   "metadata": {},
   "source": [
    "This Notebook will show the basic principle of using hera. And how to submit Workflows which will run on a schedule."
   ]
  },
  {
   "cell_type": "markdown",
   "id": "a090a94b",
   "metadata": {},
   "source": [
    "**First some imports**"
   ]
  },
  {
   "cell_type": "code",
   "execution_count": null,
   "id": "f6570be3",
   "metadata": {},
   "outputs": [],
   "source": [
    "from hera.workflows import  script, DAG, Workflow, CronWorkflow\n",
    "from hera.shared import global_config"
   ]
  },
  {
   "cell_type": "markdown",
   "id": "141016f3",
   "metadata": {},
   "source": [
    "**Global settings**\n",
    "\n",
    "To commit workflows to created with hera to ArgoWorkflows, we need to set some global parameters. `host`, `token` and `namespace` provide hera the information on where to submit the workflow. A globally set image will be used for all of of the steps in the workflow. It is possible to also define a seperate image for each step."
   ]
  },
  {
   "cell_type": "code",
   "execution_count": null,
   "id": "6d0398fd",
   "metadata": {},
   "outputs": [],
   "source": [
    "global_config.host = \"https://dev.services.eodc.eu/workflows/\"\n",
    "global_config.namespace = \"<YOUR NAMESPACE>\"\n",
    "global_config.token = \"<YOUR TOKEN>\"\n",
    "global_config.image = \"ghcr.io/eodcgmbh/cluster_image:2025.2.0\""
   ]
  },
  {
   "cell_type": "markdown",
   "id": "16f5c620",
   "metadata": {},
   "source": [
    "**Writing scripts**\n",
    "\n",
    "With the `@script` decorator we can define the steps of our workflow. We can set different parameters in the decorator, like a seperate image, but we will go into detail in later notebooks. Each step in our workflow needs to be in a function and have its own script decorator.\n",
    "\n",
    "For now we will define a simple function which prints our input."
   ]
  },
  {
   "cell_type": "code",
   "execution_count": null,
   "id": "f1864ab7",
   "metadata": {},
   "outputs": [],
   "source": [
    "@script()\n",
    "def hello_hera(message):\n",
    "    print(message)"
   ]
  },
  {
   "cell_type": "markdown",
   "id": "c44d0437",
   "metadata": {},
   "source": [
    "**Creating the Workflow**\n",
    "\n",
    "With `Workflow` we can create the workflow. The Workflow needs to have `name` or `generate` name set, also `entrypoint` has to define where the workflow will start, if we don't define `namespace` or `image` globally, we can also do it here. With `DAG` we can tell hera the steps of the workflow, if the same function is used more than once in a workflow it will need a specific name for each time it is used. The parameters in the function are passed with the `arguments` parameter as  a dictionary. Lastly, the flow of the workflow is set with the `>>` operator, whereas, steps in squared brackets will run parallel."
   ]
  },
  {
   "cell_type": "code",
   "execution_count": null,
   "id": "3c40bbdb",
   "metadata": {},
   "outputs": [],
   "source": [
    "with Workflow(\n",
    "    generate_name = \"hello-hera-\",\n",
    "    entrypoint = \"first-steps\"\n",
    ") as w:\n",
    "    with DAG(name=\"first-steps\"):\n",
    "        first = hello_hera(name=\"hello\", arguments={\"message\": \"Hello hera!\"})\n",
    "        \n",
    "        second_1 = hello_hera(name=\"parallel1\", arguments={\"message\": \"This message gets printed in parallel.\"})\n",
    "        second_2 = hello_hera(name=\"parallel2\", arguments={\"message\": \"This message gets printed in parallel.\"})\n",
    "\n",
    "        last = hello_hera(name=\"goodbye\", arguments={\"message\": \"Goodbye hera!\"})\n",
    "\n",
    "        first >> [second_1, second_2] >> last"
   ]
  },
  {
   "cell_type": "markdown",
   "id": "356414b0",
   "metadata": {},
   "source": [
    "**Submitting the Workflow**\n",
    "\n",
    "Lastly the workflow can be submited to Argo with `.create()`"
   ]
  },
  {
   "cell_type": "code",
   "execution_count": null,
   "id": "82d61922",
   "metadata": {},
   "outputs": [],
   "source": [
    "w.create()"
   ]
  },
  {
   "cell_type": "markdown",
   "id": "f14f281b",
   "metadata": {},
   "source": [
    "**CronWorkflow**\n",
    "\n",
    "We can also create a `Cronworkflow` which will run at a given schedule. Note that it will run in UTC time."
   ]
  },
  {
   "cell_type": "code",
   "execution_count": null,
   "id": "1dc514fa",
   "metadata": {},
   "outputs": [],
   "source": [
    "with CronWorkflow(\n",
    "    generate_name=\"cron-workflow-\",\n",
    "    schedule=\"* 10 * * *\",\n",
    "    entrypoint=\"workflow\"\n",
    ") as w:\n",
    "    with DAG(name=\"workflow\"):\n",
    "        hello_hera({\"message\": \"Hello hera!\"})"
   ]
  }
 ],
 "metadata": {
  "kernelspec": {
   "display_name": "zarr",
   "language": "python",
   "name": "python3"
  },
  "language_info": {
   "codemirror_mode": {
    "name": "ipython",
    "version": 3
   },
   "file_extension": ".py",
   "mimetype": "text/x-python",
   "name": "python",
   "nbconvert_exporter": "python",
   "pygments_lexer": "ipython3",
   "version": "3.11.4"
  }
 },
 "nbformat": 4,
 "nbformat_minor": 5
}
