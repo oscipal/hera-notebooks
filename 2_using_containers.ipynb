{
 "cells": [
  {
   "cell_type": "markdown",
   "id": "11131f4f",
   "metadata": {},
   "source": [
    "### **Using Docker Containers**\n",
    "\n",
    "This Notebook will show how to use scripts inside of docker containers. For a more complex way to use Containers go to the [snap processing notebook](snap_processing.ipynb)."
   ]
  },
  {
   "cell_type": "markdown",
   "id": "ea3a6b6f",
   "metadata": {},
   "source": [
    "**First some imports and global settings**"
   ]
  },
  {
   "cell_type": "code",
   "execution_count": null,
   "id": "e94c6f42",
   "metadata": {},
   "outputs": [],
   "source": [
    "from hera.workflows import Parameter, DAG, Workflow, Container\n",
    "from hera.shared import global_config\n",
    "\n",
    "global_config.host = \"https://dev.services.eodc.eu/workflows/\"\n",
    "global_config.namespace = \"<YOUR NAMESPACE>\"\n",
    "global_config.token = \"<YOUR TOKEN>\""
   ]
  },
  {
   "cell_type": "markdown",
   "id": "c9756f06",
   "metadata": {},
   "source": [
    "**Setting up container**\n",
    "\n",
    "We need to use heras `Container` to set up which image to use. In the `Container` we can specify the commands to run the script. With `args` the arguments to pass to the function are set, `inputs` make it possible to set the arguments as an input parameter. In the image used for this example we have the function *write.py* printing the argument passed to it."
   ]
  },
  {
   "cell_type": "code",
   "execution_count": null,
   "id": "31b3fef9",
   "metadata": {},
   "outputs": [],
   "source": [
    "echo = Container(name=\"write-message\",\n",
    "                image = \"ghcr.io/oscipal/image_zarr:latest\"\n",
    "                command=[\"python\", \"write.py\"],\n",
    "                args=[\"{{inputs.parameters.message}}\"],\n",
    "                inputs=[Parameter(name=\"message\")])"
   ]
  },
  {
   "cell_type": "markdown",
   "id": "b1c3fa85",
   "metadata": {},
   "source": [
    "**Creating the Workflow**\n",
    "\n",
    "As we have set inputs in the *echo* container to have the name \"message\" we can set the arguments with this name."
   ]
  },
  {
   "cell_type": "code",
   "execution_count": null,
   "id": "87b19dfd",
   "metadata": {},
   "outputs": [],
   "source": [
    "with Workflow(\n",
    "    generate_name=\"using-image-functions-\",\n",
    "    entrypoint=\"workflow\"\n",
    ") as w:\n",
    "    with DAG(name=\"workflow\"):\n",
    "        msg1 = echo(name=\"msg1\", arguments={\"message\": \"Hello hera!\"})\n",
    "        msg2 = echo(name=\"msg2\", arguments={\"message\": \"Goodbye hera!\"})\n",
    "\n",
    "        msg1 >> msg2"
   ]
  },
  {
   "cell_type": "markdown",
   "id": "bc38fbe1",
   "metadata": {},
   "source": [
    "**Submitting the Workflow**"
   ]
  },
  {
   "cell_type": "code",
   "execution_count": null,
   "id": "c714c3aa",
   "metadata": {},
   "outputs": [],
   "source": [
    "w.create()"
   ]
  }
 ],
 "metadata": {
  "kernelspec": {
   "display_name": "zarr",
   "language": "python",
   "name": "python3"
  },
  "language_info": {
   "codemirror_mode": {
    "name": "ipython",
    "version": 3
   },
   "file_extension": ".py",
   "mimetype": "text/x-python",
   "name": "python",
   "nbconvert_exporter": "python",
   "pygments_lexer": "ipython3",
   "version": "3.11.4"
  }
 },
 "nbformat": 4,
 "nbformat_minor": 5
}
