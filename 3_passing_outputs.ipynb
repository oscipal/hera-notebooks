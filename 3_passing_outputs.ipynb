{
 "cells": [
  {
   "cell_type": "markdown",
   "id": "53157235",
   "metadata": {},
   "source": [
    "### **Passing outputs between steps**\n",
    "\n",
    "This Notebook will show how to pass simple outputs between steps. Only `int`, `float` and `string` can be passed like this, later notebooks will show how to pass other outputs."
   ]
  },
  {
   "cell_type": "markdown",
   "id": "088f3300",
   "metadata": {},
   "source": [
    "**First some imports and global settings**"
   ]
  },
  {
   "cell_type": "code",
   "execution_count": null,
   "id": "186680e3",
   "metadata": {},
   "outputs": [],
   "source": [
    "from hera.workflows import script, DAG, Workflow\n",
    "from hera.shared import global_config\n",
    "\n",
    "global_config.host = \"https://dev.services.eodc.eu/workflows/\"\n",
    "global_config.namespace = \"<YOUR NAMESPACE>\"\n",
    "global_config.token = \"<YOUR TOKEN>\"\n",
    "global_config.image = \"ghcr.io/eodcgmbh/cluster_image:2025.2.0\""
   ]
  },
  {
   "cell_type": "markdown",
   "id": "e1eb0d46",
   "metadata": {},
   "source": [
    "**Writing scripts**\n",
    "\n",
    "As we have established, every step needs its own `@script` decorator. The script which passes a values needs to print the value to be passed."
   ]
  },
  {
   "cell_type": "code",
   "execution_count": null,
   "id": "6a5d4edb",
   "metadata": {},
   "outputs": [],
   "source": [
    "@script()\n",
    "def message():\n",
    "    message = \"Hello hera!\"\n",
    "    print(message)"
   ]
  },
  {
   "cell_type": "code",
   "execution_count": null,
   "id": "bd82a4b6",
   "metadata": {},
   "outputs": [],
   "source": [
    "@script()\n",
    "def get_message(message):\n",
    "    print(message)"
   ]
  },
  {
   "cell_type": "markdown",
   "id": "4df81f8f",
   "metadata": {},
   "source": [
    "**Creating the Workflow**\n",
    "\n",
    "We want to pass the output from the script *message* to *get_message*. This can be done with the `result` attribute."
   ]
  },
  {
   "cell_type": "code",
   "execution_count": null,
   "id": "bf2e2cb2",
   "metadata": {},
   "outputs": [],
   "source": [
    "with Workflow(\n",
    "    generate_name=\"passing-outputs-\",\n",
    "    entrypoint=\"workflow\"\n",
    ") as w:\n",
    "    with DAG(name=\"workflow\"):\n",
    "        msg1 = message()\n",
    "        msg2 = get_message(arguments={\"message\": msg1.result})\n",
    "\n",
    "        msg1 >> msg2"
   ]
  },
  {
   "cell_type": "markdown",
   "id": "14f5129c",
   "metadata": {},
   "source": [
    "**Submitting the Workflow**"
   ]
  },
  {
   "cell_type": "code",
   "execution_count": null,
   "id": "0074032f",
   "metadata": {},
   "outputs": [],
   "source": [
    "w.create()"
   ]
  }
 ],
 "metadata": {
  "kernelspec": {
   "display_name": "zarr",
   "language": "python",
   "name": "python3"
  },
  "language_info": {
   "codemirror_mode": {
    "name": "ipython",
    "version": 3
   },
   "file_extension": ".py",
   "mimetype": "text/x-python",
   "name": "python",
   "nbconvert_exporter": "python",
   "pygments_lexer": "ipython3",
   "version": "3.11.4"
  }
 },
 "nbformat": 4,
 "nbformat_minor": 5
}
