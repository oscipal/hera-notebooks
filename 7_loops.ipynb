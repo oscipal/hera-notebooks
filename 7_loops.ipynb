{
 "cells": [
  {
   "cell_type": "markdown",
   "id": "a4df45d5",
   "metadata": {},
   "source": [
    "### **Storing on the NFS**\n",
    "\n",
    "This notebook will show how to connect to an exisiting file system and write/read to that FS. To connect, a persistent volume claim has to be set up to you namespace. The files written to the NFS are permanent and passable between workflows."
   ]
  },
  {
   "cell_type": "markdown",
   "id": "d5c4ee40",
   "metadata": {},
   "source": [
    "**First some imports and global settings**"
   ]
  },
  {
   "cell_type": "code",
   "execution_count": null,
   "id": "948d6d88",
   "metadata": {},
   "outputs": [],
   "source": [
    "from hera.workflows import script,  DAG, Workflow\n",
    "from hera.shared import global_config\n",
    "\n",
    "global_config.host = \"https://dev.services.eodc.eu/workflows/\"\n",
    "global_config.namespace = \"<YOUR NAMESPACE>\"\n",
    "global_config.token = \"<YOUR TOKEN>\"\n",
    "global_config.image = \"ghcr.io/eodcgmbh/cluster_image:2025.2.0\""
   ]
  },
  {
   "cell_type": "markdown",
   "id": "319886fe",
   "metadata": {},
   "source": [
    "**Writing scripts**"
   ]
  },
  {
   "cell_type": "code",
   "execution_count": null,
   "id": "e98d6e3b",
   "metadata": {},
   "outputs": [],
   "source": [
    "@script()\n",
    "def write_message(message):\n",
    "    print(message)"
   ]
  },
  {
   "cell_type": "markdown",
   "id": "833ae232",
   "metadata": {},
   "source": [
    "**Creating the Workflow**\n",
    "\n",
    "We can pass multiple values for the parameter in our functions by using `with_items`, the workflow will then work in parallel for every value passed to the function. This also works if multiple parameters should be given by adding keys and values to the dict passed to `with_items`."
   ]
  },
  {
   "cell_type": "code",
   "execution_count": null,
   "id": "b4489eb7",
   "metadata": {},
   "outputs": [],
   "source": [
    "with Workflow(\n",
    "    generate_name=\"loop-\",\n",
    "    entrypoint=\"workflow\"\n",
    ") as w:\n",
    "    with DAG(name=\"workflow\"):\n",
    "        write_message(arguments={\"message\": \"{{item.msg}}\"},\n",
    "                      with_items=[{\"msg\": \"Hello1\"}, {\"msg\": \"Hello2\"}, {\"msg\": \"Hello3\"}])"
   ]
  },
  {
   "cell_type": "markdown",
   "id": "5e5fd205",
   "metadata": {},
   "source": [
    "The same can be achieved by passing a list to the `with_params` keyword."
   ]
  },
  {
   "cell_type": "code",
   "execution_count": null,
   "id": "49fb04e5",
   "metadata": {},
   "outputs": [],
   "source": [
    "parameters = [\"Hello1\", \"Hello2\", \"Hello3\"]\n",
    "\n",
    "with Workflow(\n",
    "    generate_name=\"loop2-\",\n",
    "    entrypoint=\"workflow\"\n",
    ") as w2:\n",
    "    with DAG(name=\"workflow\"):\n",
    "        write_message(arguments={\"message\": \"{{item}}\"},\n",
    "                      with_param=parameters)"
   ]
  },
  {
   "cell_type": "markdown",
   "id": "eb9c7072",
   "metadata": {},
   "source": [
    "**Submitting the Workflow**"
   ]
  },
  {
   "cell_type": "code",
   "execution_count": null,
   "id": "ca9ef940",
   "metadata": {},
   "outputs": [],
   "source": [
    "w.create()\n",
    "w2.create()"
   ]
  }
 ],
 "metadata": {
  "kernelspec": {
   "display_name": "zarr",
   "language": "python",
   "name": "python3"
  },
  "language_info": {
   "codemirror_mode": {
    "name": "ipython",
    "version": 3
   },
   "file_extension": ".py",
   "mimetype": "text/x-python",
   "name": "python",
   "nbconvert_exporter": "python",
   "pygments_lexer": "ipython3",
   "version": "3.11.4"
  }
 },
 "nbformat": 4,
 "nbformat_minor": 5
}
